{
  "nbformat": 4,
  "nbformat_minor": 0,
  "metadata": {
    "colab": {
      "provenance": [],
      "authorship_tag": "ABX9TyP4kP/6io0rnS6GnTjIkvT/",
      "include_colab_link": true
    },
    "kernelspec": {
      "name": "python3",
      "display_name": "Python 3"
    },
    "language_info": {
      "name": "python"
    }
  },
  "cells": [
    {
      "cell_type": "markdown",
      "metadata": {
        "id": "view-in-github",
        "colab_type": "text"
      },
      "source": [
        "<a href=\"https://colab.research.google.com/github/VoPhuongAnh/LONDON-UNIVERSITY---Foundations-of-Data-Science-K-Means-Clustering-in-Python/blob/main/Plot_graphs_mo_ta_variability_cua_1_data_set.ipynb\" target=\"_parent\"><img src=\"https://colab.research.google.com/assets/colab-badge.svg\" alt=\"Open In Colab\"/></a>"
      ]
    },
    {
      "cell_type": "markdown",
      "source": [
        "#**Plot graphs mô tả variability của 1 data set sử dụng sublpots**"
      ],
      "metadata": {
        "id": "4NsRyqwk98BB"
      }
    },
    {
      "cell_type": "code",
      "source": [
        "import numpy as np\n",
        "import pandas as pd\n",
        "import matplotlib.pyplot as plt"
      ],
      "metadata": {
        "id": "GxrNrzde9zOq"
      },
      "execution_count": 1,
      "outputs": []
    },
    {
      "cell_type": "code",
      "execution_count": 6,
      "metadata": {
        "colab": {
          "base_uri": "https://localhost:8080/",
          "height": 430
        },
        "id": "2YRssdAn9xS4",
        "outputId": "d0acf83d-5bdc-43be-8671-bd8da14fc52d"
      },
      "outputs": [
        {
          "output_type": "display_data",
          "data": {
            "text/plain": [
              "<Figure size 640x480 with 2 Axes>"
            ],
            "image/png": "[encoded data removed]"
          },
          "metadata": {}
        }
      ],
      "source": [
        "# two different arrays\n",
        "x = np.array([2,3,5,6]) # giả định các data set của mình có 4 phần tử\n",
        "y = np.array([-8,-7,15,16])\n",
        "\n",
        "# needed for the graph below\n",
        "my_range = np.arange(4) # parameter của arange xác định bằng số lượng phần tử của dataset (=len(x))tương ứng với 4 vị trí trên trục hoành; nếu data set có n phần tử thì my_range = np.arange(n)\n",
        "\n",
        "# their respective means\n",
        "mean_x = np.mean(x)\n",
        "mean_y = np.mean(y)\n",
        "\n",
        "fig, axs = plt.subplots(1,2, sharey=True)\n",
        "axs[0].stem(my_range, x, label='x values', bottom=mean_x)\n",
        "axs[1].stem(my_range, y, label='y values', bottom=mean_y)\n",
        "legend_x = axs[0].legend(loc='upper right')\n",
        "legend_y = axs[1].legend(loc='lower right')\n",
        "\n",
        "plt.show()"
      ]
    },
    {
      "cell_type": "code",
      "source": [
        "len(x)"
      ],
      "metadata": {
        "colab": {
          "base_uri": "https://localhost:8080/"
        },
        "id": "PB_rOLRs_HVD",
        "outputId": "4bf23d25-6048-4b0d-ae29-454f43ecc34f"
      },
      "execution_count": 7,
      "outputs": [
        {
          "output_type": "execute_result",
          "data": {
            "text/plain": [
              "4"
            ]
          },
          "metadata": {},
          "execution_count": 7
        }
      ]
    }
  ]
}